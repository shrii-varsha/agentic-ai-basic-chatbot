{
 "cells": [
  {
   "cell_type": "code",
   "execution_count": 1,
   "id": "fca60dae",
   "metadata": {},
   "outputs": [],
   "source": [
    "from typing import Annotated\n",
    "from typing_extensions import TypedDict\n",
    "from langgraph.graph import StateGraph,START,END\n",
    "from langgraph.graph.message import add_messages"
   ]
  },
  {
   "cell_type": "code",
   "execution_count": 2,
   "id": "694fb4d3",
   "metadata": {},
   "outputs": [],
   "source": [
    "class State(TypedDict):\n",
    "    messages: Annotated[list,add_messages]\n"
   ]
  },
  {
   "cell_type": "code",
   "execution_count": 3,
   "id": "14b0eec8",
   "metadata": {},
   "outputs": [
    {
     "data": {
      "text/plain": [
       "True"
      ]
     },
     "execution_count": 3,
     "metadata": {},
     "output_type": "execute_result"
    }
   ],
   "source": [
    "import os\n",
    "from dotenv import load_dotenv\n",
    "load_dotenv()"
   ]
  },
  {
   "cell_type": "code",
   "execution_count": 4,
   "id": "005281b9",
   "metadata": {},
   "outputs": [
    {
     "data": {
      "text/plain": [
       "ChatGroq(client=<groq.resources.chat.completions.Completions object at 0x000002203B46A720>, async_client=<groq.resources.chat.completions.AsyncCompletions object at 0x000002203B4CFF80>, model_name='qwen/qwen3-32b', model_kwargs={}, groq_api_key=SecretStr('**********'))"
      ]
     },
     "execution_count": 4,
     "metadata": {},
     "output_type": "execute_result"
    }
   ],
   "source": [
    "from langchain_groq import ChatGroq\n",
    "from langchain.chat_models import init_chat_model\n",
    "\n",
    "llm =ChatGroq(model = \"qwen/qwen3-32b\")\n",
    "llm"
   ]
  },
  {
   "cell_type": "code",
   "execution_count": null,
   "id": "7365b5d8",
   "metadata": {},
   "outputs": [
    {
     "data": {
      "text/plain": [
       "ChatGroq(client=<groq.resources.chat.completions.Completions object at 0x000002203B1DF830>, async_client=<groq.resources.chat.completions.AsyncCompletions object at 0x000002203B5252B0>, model_name='qwen/qwen3-32b', model_kwargs={}, groq_api_key=SecretStr('**********'))"
      ]
     },
     "execution_count": 5,
     "metadata": {},
     "output_type": "execute_result"
    }
   ],
   "source": [
    "llm1 = init_chat_model(\"groq:qwen/qwen3-32b\")\n",
    "llm1"
   ]
  },
  {
   "cell_type": "code",
   "execution_count": 6,
   "id": "4ed52803",
   "metadata": {},
   "outputs": [
    {
     "data": {
      "text/plain": [
       "AIMessage(content='<think>\\nOkay, the user introduced themselves as Shrii Varsha. I should acknowledge their name and offer assistance. Let me make sure to use their name in the response to be friendly. I need to keep it open-ended so they feel comfortable asking anything. Maybe add an emoji to keep it approachable. Let me check for any typos or errors. Alright, that should do it.\\n</think>\\n\\nHello, Shrii Varsha! 😊 How can I assist you today? Let me know if you have any questions or need help with something specific!', additional_kwargs={}, response_metadata={'token_usage': {'completion_tokens': 115, 'prompt_tokens': 16, 'total_tokens': 131, 'completion_time': 0.244344475, 'prompt_time': 0.000398276, 'queue_time': 0.049691684, 'total_time': 0.244742751}, 'model_name': 'qwen/qwen3-32b', 'system_fingerprint': 'fp_f17c2eb555', 'service_tier': 'on_demand', 'finish_reason': 'stop', 'logprobs': None}, id='run--35d0ce19-e04d-4d61-9d54-34404270c0ff-0', usage_metadata={'input_tokens': 16, 'output_tokens': 115, 'total_tokens': 131})"
      ]
     },
     "execution_count": 6,
     "metadata": {},
     "output_type": "execute_result"
    }
   ],
   "source": [
    "llm.invoke(\"Hello my name is shrii varsha\")"
   ]
  },
  {
   "cell_type": "code",
   "execution_count": 7,
   "id": "b0395c69",
   "metadata": {},
   "outputs": [],
   "source": [
    "## Node Functionality\n",
    "def chatbot(state:State):\n",
    "    return {\"messages\":[llm.invoke(state[\"messages\"])]}"
   ]
  },
  {
   "cell_type": "code",
   "execution_count": null,
   "id": "359bbd7b",
   "metadata": {},
   "outputs": [],
   "source": [
    "graph_builder = StateGraph(State)\n",
    "graph_builder.add_node(\"llmchat\",chatbot)\n",
    "graph_builder.add_edge(START,\"llmchat\")\n",
    "graph_builder.add_edge(\"llmchat\",END)\n",
    "\n",
    "graph = graph_builder.compile()"
   ]
  },
  {
   "cell_type": "code",
   "execution_count": 9,
   "id": "fab21d1f",
   "metadata": {},
   "outputs": [
    {
     "data": {
      "image/png": "[encoded data removed]",
      "text/plain": [
       "<IPython.core.display.Image object>"
      ]
     },
     "metadata": {},
     "output_type": "display_data"
    }
   ],
   "source": [
    "from IPython.display import Image,display\n",
    "\n",
    "display(Image(graph.get_graph().draw_mermaid_png()))"
   ]
  },
  {
   "cell_type": "code",
   "execution_count": 10,
   "id": "c5215b52",
   "metadata": {},
   "outputs": [
    {
     "data": {
      "text/plain": [
       "{'messages': [HumanMessage(content='Hi', additional_kwargs={}, response_metadata={}, id='a8c47a35-9484-40a2-9026-0d71133dfa8b'),\n",
       "  AIMessage(content='<think>\\nOkay, the user said \"Hi\". That\\'s pretty straightforward. I need to respond in a friendly and welcoming way. Let me make sure to keep it open-ended so they feel comfortable to ask anything. Maybe add a smiley to keep the tone light. Let me check for any typos and ensure the response is concise.\\n</think>\\n\\nHello! How can I assist you today? 😊', additional_kwargs={}, response_metadata={'token_usage': {'completion_tokens': 82, 'prompt_tokens': 9, 'total_tokens': 91, 'completion_time': 0.196969097, 'prompt_time': 0.000208918, 'queue_time': 0.055230186, 'total_time': 0.197178015}, 'model_name': 'qwen/qwen3-32b', 'system_fingerprint': 'fp_f17c2eb555', 'service_tier': 'on_demand', 'finish_reason': 'stop', 'logprobs': None}, id='run--32347711-197b-411f-81ea-5e494beb458d-0', usage_metadata={'input_tokens': 9, 'output_tokens': 82, 'total_tokens': 91})]}"
      ]
     },
     "execution_count": 10,
     "metadata": {},
     "output_type": "execute_result"
    }
   ],
   "source": [
    "graph.invoke({\"messages\":\"Hi\"})"
   ]
  },
  {
   "cell_type": "code",
   "execution_count": null,
   "id": "6f1ab88d",
   "metadata": {},
   "outputs": [
    {
     "data": {
      "text/plain": [
       "'<think>\\nOkay, the user said \"Hi\". That\\'s a greeting. I should respond in a friendly and welcoming way. Maybe start with a greeting and offer assistance. Let me check the guidelines to make sure I\\'m following the right tone. They want the response to be conversational and not too formal. So something like \"Hello! How can I help you today?\" or \"Hi there! What can I assist you with?\" That should work. I need to keep it open-ended to invite them to ask questions or share what they need help with. Alright, let\\'s go with one of those options.\\n</think>\\n\\nHello! How can I help you today? 😊'"
      ]
     },
     "execution_count": 54,
     "metadata": {},
     "output_type": "execute_result"
    }
   ],
   "source": [
    "response=graph.invoke({\"messages\":\"Hi\"})\n",
    "response[\"messages\"][-1].content"
   ]
  },
  {
   "cell_type": "code",
   "execution_count": null,
   "id": "78b87010",
   "metadata": {},
   "outputs": [],
   "source": [
    "msg = {\"messages\":\"Hi\"}\n",
    "response=graph.invoke(msg)"
   ]
  },
  {
   "cell_type": "code",
   "execution_count": 50,
   "id": "76995247",
   "metadata": {},
   "outputs": [
    {
     "data": {
      "text/plain": [
       "'<think>\\nOkay, the user said \"Hi\". I need to respond appropriately. Since it\\'s a greeting, I should start with a friendly greeting in return. Maybe add an emoji to keep it warm. Then ask how I can assist them. Keep it open-ended so they can explain what they need help with. Make sure the tone is welcoming and helpful. Avoid using any markdown formatting as per the instructions. Let me put that all together concisely.\\n</think>\\n\\nHi there! 😊 How can I assist you today? Let me know if you have any questions or need help with something specific!'"
      ]
     },
     "execution_count": 50,
     "metadata": {},
     "output_type": "execute_result"
    }
   ],
   "source": [
    "response[\"messages\"][-1].content"
   ]
  },
  {
   "cell_type": "code",
   "execution_count": null,
   "id": "c74bed0a",
   "metadata": {},
   "outputs": [
    {
     "name": "stdout",
     "output_type": "stream",
     "text": [
      "content='Hi' additional_kwargs={} response_metadata={} id='94124a76-3e25-4842-bc80-93a8aadf0456'\n",
      "content='<think>\\nOkay, the user sent \"Hi\". That\\'s pretty casual. I should respond in a friendly and open way to encourage them to elaborate on what they need help with.\\n\\nFirst, I need to acknowledge their greeting. Then, invite them to ask a question or share what they\\'re working on. Keeping it simple and approachable is key here. Maybe add an emoji to keep the tone light.\\n\\nLet me make sure the response is welcoming and not too formal. They might be looking for assistance with something specific, so prompting them to provide more details will help me address their needs better. Alright, that should work.\\n</think>\\n\\nHello! How can I assist you today? 😊' additional_kwargs={} response_metadata={'token_usage': {'completion_tokens': 139, 'prompt_tokens': 9, 'total_tokens': 148, 'completion_time': 0.420720413, 'prompt_time': 0.000291795, 'queue_time': 0.049658055, 'total_time': 0.421012208}, 'model_name': 'qwen/qwen3-32b', 'system_fingerprint': 'fp_f17c2eb555', 'service_tier': 'on_demand', 'finish_reason': 'stop', 'logprobs': None} id='run--4474edf0-7e2a-4b8d-b3d7-281ceff245f0-0' usage_metadata={'input_tokens': 9, 'output_tokens': 139, 'total_tokens': 148}\n"
     ]
    }
   ],
   "source": [
    "response[\"messages\"].append(\"How are you\")\n",
    "response=graph.invoke(msg)\n",
    "for m in response[\"messages\"]:\n",
    "    print(m)\n",
    "    # If messages are objects (e.g., AI or HumanMessage):\n",
    "    # print(m.content)\n"
   ]
  },
  {
   "cell_type": "code",
   "execution_count": 55,
   "id": "e6a7811b",
   "metadata": {},
   "outputs": [
    {
     "name": "stdout",
     "output_type": "stream",
     "text": [
      "<think>\n",
      "Okay, the user is asking how I am. I should respond in a friendly and approachable way. Let me make sure to acknowledge their question and offer help. Maybe add an emoji to keep it warm. Alright, something like \"Hi there! I'm just a bunch of code, so I don't have feelings, but I'm here and ready to help! 😊 How can I assist you today?\" That should cover it.\n",
      "</think>\n",
      "\n",
      "Hi there! I'm just a bunch of code, so I don't have feelings, but I'm here and ready to help! 😊 How can I assist you today?\n"
     ]
    }
   ],
   "source": [
    "for event in graph.stream({\"messages\":\"Hi How are you?\"}):\n",
    "    for value in event.values():\n",
    "        print(value[\"messages\"][-1].content)"
   ]
  },
  {
   "cell_type": "markdown",
   "id": "2177aa49",
   "metadata": {},
   "source": [
    "### Chatbot with tool"
   ]
  },
  {
   "cell_type": "code",
   "execution_count": 12,
   "id": "9ca7ccde",
   "metadata": {},
   "outputs": [
    {
     "data": {
      "text/plain": [
       "{'query': 'What is th e recent ai search',\n",
       " 'follow_up_questions': None,\n",
       " 'answer': None,\n",
       " 'images': [],\n",
       " 'results': [{'url': 'https://blog.google/products/search/google-search-ai-mode-update/',\n",
       "   'title': 'AI in Search: Going beyond information to intelligence - Google Blog',\n",
       "   'content': 'AI Mode is our most powerful AI search, with more advanced reasoning and multimodality, and the ability to go deeper through follow-up questions',\n",
       "   'score': 0.36148077,\n",
       "   'raw_content': None},\n",
       "  {'url': 'https://www.pcmag.com/picks/the-best-ai-search-engines',\n",
       "   'title': \"The Best AI Search Engines We've Tested (2025) - PCMag\",\n",
       "   'content': \"OpenAI's ChatGPT, the service that popularized generative AI, works for regular web searches. Simply click on Search within the interface to access it.\",\n",
       "   'score': 0.2758636,\n",
       "   'raw_content': None}],\n",
       " 'response_time': 1.97}"
      ]
     },
     "execution_count": 12,
     "metadata": {},
     "output_type": "execute_result"
    }
   ],
   "source": [
    "from langchain_tavily import TavilySearch\n",
    "\n",
    "tool = TavilySearch(max_results = 2)\n",
    "tool.invoke(\"What is th e recent ai search\")"
   ]
  }
 ],
 "metadata": {
  "kernelspec": {
   "display_name": "BasicChatBot (3.12.3)",
   "language": "python",
   "name": "python3"
  },
  "language_info": {
   "codemirror_mode": {
    "name": "ipython",
    "version": 3
   },
   "file_extension": ".py",
   "mimetype": "text/x-python",
   "name": "python",
   "nbconvert_exporter": "python",
   "pygments_lexer": "ipython3",
   "version": "3.12.3"
  }
 },
 "nbformat": 4,
 "nbformat_minor": 5
}
